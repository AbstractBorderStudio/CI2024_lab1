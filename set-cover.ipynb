{
 "cells": [
  {
   "cell_type": "markdown",
   "metadata": {},
   "source": [
    "# THIS IS THE SOLUTION FOR COMPUTATIONAL INTELLIGENS LAB 01\n",
    "\n",
    "> Author: `Daniel Bologna - s310582`\n",
    "> - You can find the solution below."
   ]
  },
  {
   "cell_type": "markdown",
   "metadata": {},
   "source": [
    "Copyright **`(c)`** 2024 Giovanni Squillero `<giovanni.squillero@polito.it>`  \n",
    "[`https://github.com/squillero/computational-intelligence`](https://github.com/squillero/computational-intelligence)  \n",
    "Free for personal or classroom use; see [`LICENSE.md`](https://github.com/squillero/computational-intelligence/blob/master/LICENSE.md) for details.  "
   ]
  },
  {
   "cell_type": "markdown",
   "metadata": {},
   "source": [
    "# Set Cover problem\n",
    "\n",
    "See: https://en.wikipedia.org/wiki/Set_cover_problem"
   ]
  },
  {
   "cell_type": "code",
   "execution_count": 2351,
   "metadata": {},
   "outputs": [],
   "source": [
    "from random import random, seed\n",
    "from itertools import product\n",
    "import numpy as np\n",
    "\n",
    "from icecream import ic\n",
    "\n",
    "# EXTRA LIBRARIES (!plot ONLY purpose!)\n",
    "from matplotlib import pyplot as plt\n",
    "from itertools import accumulate"
   ]
  },
  {
   "cell_type": "markdown",
   "metadata": {},
   "source": [
    "## Reproducible Initialization\n",
    "\n",
    "If you want to get reproducible results, use `rng` (and restart the kernel); for non-reproducible ones, use `np.random`."
   ]
  },
  {
   "cell_type": "code",
   "execution_count": 2352,
   "metadata": {},
   "outputs": [],
   "source": [
    "UNIVERSE_SIZE = 10_000\n",
    "NUM_SETS = 1_000\n",
    "DENSITY = 0.2\n",
    "\n",
    "rng = np.random.Generator(np.random.PCG64([UNIVERSE_SIZE, NUM_SETS, int(10_000 * DENSITY)]))"
   ]
  },
  {
   "cell_type": "code",
   "execution_count": 2353,
   "metadata": {},
   "outputs": [],
   "source": [
    "# DON'T EDIT THESE LINES!\n",
    "\n",
    "SETS = np.random.random((NUM_SETS, UNIVERSE_SIZE)) < DENSITY\n",
    "for s in range(UNIVERSE_SIZE):\n",
    "    if not np.any(SETS[:, s]):\n",
    "        SETS[np.random.randint(NUM_SETS), s] = True\n",
    "COSTS = np.pow(SETS.sum(axis=1), 1.1)"
   ]
  },
  {
   "cell_type": "markdown",
   "metadata": {},
   "source": [
    "## Helper Functions"
   ]
  },
  {
   "cell_type": "code",
   "execution_count": 2354,
   "metadata": {},
   "outputs": [],
   "source": [
    "def valid(solution):\n",
    "    \"\"\"Checks wether solution is valid (ie. covers all universe)\"\"\"\n",
    "    return np.all(np.logical_or.reduce(SETS[solution]))\n",
    "\n",
    "\n",
    "def cost(solution):\n",
    "    \"\"\"Returns the cost of a solution (to be minimized)\"\"\"\n",
    "    return COSTS[solution].sum()"
   ]
  },
  {
   "cell_type": "markdown",
   "metadata": {},
   "source": [
    "## Have Fun!"
   ]
  },
  {
   "cell_type": "code",
   "execution_count": null,
   "metadata": {},
   "outputs": [],
   "source": [
    "# A dumb solution of \"all\" sets\n",
    "solution = np.full(NUM_SETS, True)\n",
    "valid(solution), cost(solution)"
   ]
  },
  {
   "cell_type": "code",
   "execution_count": null,
   "metadata": {},
   "outputs": [],
   "source": [
    "# A random solution with random 50% of the sets\n",
    "solution = rng.random(NUM_SETS) < .5\n",
    "valid(solution), cost(solution)"
   ]
  },
  {
   "cell_type": "markdown",
   "metadata": {},
   "source": [
    "---"
   ]
  },
  {
   "cell_type": "markdown",
   "metadata": {},
   "source": [
    "# Solution"
   ]
  },
  {
   "cell_type": "markdown",
   "metadata": {},
   "source": [
    "## Implementation"
   ]
  },
  {
   "cell_type": "markdown",
   "metadata": {},
   "source": [
    "### Utility functions"
   ]
  },
  {
   "cell_type": "code",
   "execution_count": 2357,
   "metadata": {},
   "outputs": [],
   "source": [
    "def clamp(_min, _max, _val):\n",
    "    return max(_min, min(_max, _val))"
   ]
  },
  {
   "cell_type": "markdown",
   "metadata": {},
   "source": [
    "### Fitness function\n",
    "\n",
    "See the fitness as the tuple containing the following values\n",
    "\n",
    "- valid(solution)\n",
    "- union of chosen universe's elements\n",
    "- -cost(solution)\n",
    "\n",
    "> Our objective is to maximize the number of elements in the universe covered by our subsets, and minimize -cost."
   ]
  },
  {
   "cell_type": "code",
   "execution_count": 2358,
   "metadata": {},
   "outputs": [],
   "source": [
    "def fitness(_current_solution : np.ndarray) -> tuple[bool, float, float]:\n",
    "    return (\n",
    "        valid(_current_solution), \n",
    "        np.logical_or.reduce(SETS[_current_solution]).sum(), \n",
    "        -cost(_current_solution))"
   ]
  },
  {
   "cell_type": "markdown",
   "metadata": {},
   "source": [
    "### Tweak function"
   ]
  },
  {
   "cell_type": "code",
   "execution_count": 2359,
   "metadata": {},
   "outputs": [],
   "source": [
    "def tweak(_current_solution : np.ndarray, step_size : float) -> np.ndarray:\n",
    "    new_solution = _current_solution.copy()\n",
    "    index = None\n",
    "    while index is None or np.random.random() < step_size:\n",
    "        index = np.random.randint(0, NUM_SETS)\n",
    "        new_solution[index] = not new_solution[index]\n",
    "    return new_solution"
   ]
  },
  {
   "cell_type": "markdown",
   "metadata": {},
   "source": [
    "### Initial values"
   ]
  },
  {
   "cell_type": "code",
   "execution_count": 2360,
   "metadata": {},
   "outputs": [],
   "source": [
    "# Setting variables\n",
    "\n",
    "MAX_STEPS : int = 10_000\n",
    "\n",
    "\n",
    "ALPHA : float = 1.01\n",
    "STEP_THRESHOLD : int = 100\n",
    "STOPPING_THRESHOLD: int = 250\n",
    "\n",
    "\n",
    "starting_step_size : float = 0.4\n",
    "starting_solution : np.ndarray = rng.random(NUM_SETS) < starting_step_size"
   ]
  },
  {
   "cell_type": "markdown",
   "metadata": {},
   "source": [
    "### Iterations"
   ]
  },
  {
   "cell_type": "code",
   "execution_count": 2361,
   "metadata": {},
   "outputs": [],
   "source": [
    "def my_solution(_starting_solution : np.ndarray, _starting_step_size : float, _alpha : float) -> tuple[np.ndarray, np.ndarray]:\n",
    "    \"\"\"\n",
    "    Checks wether solution is valid (ie. covers all universe)\n",
    "    Args:\n",
    "        _starting_solution (np.ndarray): The starting solution.\n",
    "        _starting_step_size (float): Searching range dimension [0, 1].\n",
    "        _alpha (float): How much the searching range will decrese.\n",
    "    Returns:\n",
    "        (np.ndarray,np.ndarray): returns the final solution and the history to plot the iterations.\n",
    "    \"\"\"\n",
    "    current_step_size = _starting_step_size\n",
    "    current_solution = _starting_solution.copy()\n",
    "    current_fit = fitness(current_solution)\n",
    "    history = [current_fit[2]]\n",
    "    worsening_counter = 0\n",
    "\n",
    "    for i in range(MAX_STEPS):\n",
    "        # find a new solution nearby our current solution \n",
    "        new_solution = tweak(current_solution, current_step_size)\n",
    "        new_fit = fitness(new_solution)\n",
    "        history.append(current_fit[2])\n",
    "        \n",
    "        # check if the new solution has a better fitness than the current one\n",
    "        if new_fit > current_fit:\n",
    "            # save the new solution as the current one\n",
    "            current_solution = new_solution\n",
    "            current_fit = new_fit\n",
    "\n",
    "            # every time we hit a better soluton, narrow the searching range\n",
    "            current_step_size /= _alpha\n",
    "            worsening_counter = 0\n",
    "        else:\n",
    "            # count how many time the solution doesn't change consecutively\n",
    "            worsening_counter += 1\n",
    "\n",
    "            if worsening_counter % STEP_THRESHOLD == 0:\n",
    "                # we spent too much time in the same spot without improving. So try widening the searching range\n",
    "                current_step_size *= _alpha\n",
    "                current_step_size = clamp(0.0, 0.99, current_step_size)\n",
    "\n",
    "                # STOPPING CONDITION\n",
    "                # still no improvements for a longer amount of iterations.\n",
    "                if worsening_counter >= STOPPING_THRESHOLD:\n",
    "                    break\n",
    "\n",
    "    # return the final solution and the history \n",
    "    return (current_solution, history)\n",
    "\n",
    "final_solution, history = my_solution(starting_solution, starting_step_size, ALPHA)"
   ]
  },
  {
   "cell_type": "markdown",
   "metadata": {},
   "source": [
    "### Plot!"
   ]
  },
  {
   "cell_type": "code",
   "execution_count": null,
   "metadata": {},
   "outputs": [],
   "source": [
    "# Print al the information about the final solution\n",
    "taken_sets = len(SETS[final_solution])\n",
    "percentage = str(taken_sets / NUM_SETS * 100) + \"%\"\n",
    "iterations = len(history) - 1\n",
    "cost = -fitness(final_solution)[2]\n",
    "ic(iterations, valid(final_solution), NUM_SETS, taken_sets, percentage, cost)"
   ]
  },
  {
   "cell_type": "code",
   "execution_count": null,
   "metadata": {},
   "outputs": [],
   "source": [
    "# PLOT the final solution\n",
    "plt.figure(figsize=(14, 8))\n",
    "plt.plot(\n",
    "    range(len(history)),\n",
    "    list(accumulate(history, max)),\n",
    "    color=\"red\",\n",
    ")\n",
    "_ = plt.scatter(range(len(history)), history, marker=\".\")"
   ]
  }
 ],
 "metadata": {
  "kernelspec": {
   "display_name": ".venv",
   "language": "python",
   "name": "python3"
  },
  "language_info": {
   "codemirror_mode": {
    "name": "ipython",
    "version": 3
   },
   "file_extension": ".py",
   "mimetype": "text/x-python",
   "name": "python",
   "nbconvert_exporter": "python",
   "pygments_lexer": "ipython3",
   "version": "3.12.7"
  }
 },
 "nbformat": 4,
 "nbformat_minor": 4
}
