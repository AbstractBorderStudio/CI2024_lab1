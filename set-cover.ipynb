{
 "cells": [
  {
   "cell_type": "markdown",
   "metadata": {},
   "source": [
    "# THIS IS THE SOLUTION FOR COMPUTATIONAL INTELLIGENS LAB 01\n",
    "\n",
    "> Author: `Daniel Bologna - s310582`\n",
    "> - You can find the solution below."
   ]
  },
  {
   "cell_type": "markdown",
   "metadata": {},
   "source": [
    "Copyright **`(c)`** 2024 Giovanni Squillero `<giovanni.squillero@polito.it>`  \n",
    "[`https://github.com/squillero/computational-intelligence`](https://github.com/squillero/computational-intelligence)  \n",
    "Free for personal or classroom use; see [`LICENSE.md`](https://github.com/squillero/computational-intelligence/blob/master/LICENSE.md) for details.  "
   ]
  },
  {
   "cell_type": "markdown",
   "metadata": {},
   "source": [
    "# Set Cover problem\n",
    "\n",
    "See: https://en.wikipedia.org/wiki/Set_cover_problem"
   ]
  },
  {
   "cell_type": "code",
   "execution_count": 1,
   "metadata": {},
   "outputs": [],
   "source": [
    "from random import random, seed\n",
    "from itertools import product\n",
    "import numpy as np\n",
    "\n",
    "from icecream import ic\n",
    "\n",
    "# EXTRA LIBRARIES (!plot ONLY purpose!)\n",
    "from matplotlib import pyplot as plt\n",
    "from tqdm.auto import tqdm\n",
    "from itertools import accumulate"
   ]
  },
  {
   "cell_type": "markdown",
   "metadata": {},
   "source": [
    "## Reproducible Initialization\n",
    "\n",
    "If you want to get reproducible results, use `rng` (and restart the kernel); for non-reproducible ones, use `np.random`."
   ]
  },
  {
   "cell_type": "code",
   "execution_count": 2,
   "metadata": {},
   "outputs": [],
   "source": [
    "UNIVERSE_SIZE = 5#100_000\n",
    "NUM_SETS = 10#10_000\n",
    "DENSITY = 0.2\n",
    "\n",
    "rng = np.random.Generator(np.random.PCG64([UNIVERSE_SIZE, NUM_SETS, int(10_000 * DENSITY)]))"
   ]
  },
  {
   "cell_type": "code",
   "execution_count": 3,
   "metadata": {},
   "outputs": [],
   "source": [
    "# DON'T EDIT THESE LINES!\n",
    "\n",
    "SETS = np.random.random((NUM_SETS, UNIVERSE_SIZE)) < DENSITY\n",
    "for s in range(UNIVERSE_SIZE):\n",
    "    if not np.any(SETS[:, s]):\n",
    "        SETS[np.random.randint(NUM_SETS), s] = True\n",
    "COSTS = np.pow(SETS.sum(axis=1), 1.1)"
   ]
  },
  {
   "cell_type": "markdown",
   "metadata": {},
   "source": [
    "## Helper Functions"
   ]
  },
  {
   "cell_type": "code",
   "execution_count": 20,
   "metadata": {},
   "outputs": [],
   "source": [
    "def valid(solution):\n",
    "    \"\"\"Checks wether solution is valid (ie. covers all universe)\"\"\"\n",
    "    return np.all(np.logical_or.reduce(SETS[solution]))\n",
    "\n",
    "\n",
    "def cost(solution):\n",
    "    \"\"\"Returns the cost of a solution (to be minimized)\"\"\"\n",
    "    return COSTS[solution].sum()"
   ]
  },
  {
   "cell_type": "markdown",
   "metadata": {},
   "source": [
    "## Have Fun!"
   ]
  },
  {
   "cell_type": "code",
   "execution_count": null,
   "metadata": {},
   "outputs": [],
   "source": [
    "# A dumb solution of \"all\" sets\n",
    "solution = np.full(NUM_SETS, True)\n",
    "valid(solution), cost(solution)"
   ]
  },
  {
   "cell_type": "code",
   "execution_count": null,
   "metadata": {},
   "outputs": [],
   "source": [
    "# A random solution with random 50% of the sets\n",
    "solution = rng.random(NUM_SETS) < .5\n",
    "valid(solution), cost(solution)"
   ]
  },
  {
   "cell_type": "markdown",
   "metadata": {},
   "source": [
    "---"
   ]
  },
  {
   "cell_type": "markdown",
   "metadata": {},
   "source": [
    "# Solution"
   ]
  },
  {
   "cell_type": "markdown",
   "metadata": {},
   "source": [
    "## My helper functions"
   ]
  },
  {
   "cell_type": "code",
   "execution_count": 4,
   "metadata": {},
   "outputs": [],
   "source": [
    "def valid(_current_solution : np.ndarray) -> bool:\n",
    "    \"\"\"\n",
    "    Checks whether or the _current_solution is valid or not.\n",
    "    Args:\n",
    "        _current_solution (np.ndarray): The current solution.\n",
    "    Returns:\n",
    "        bool: _current_solution validity.\n",
    "    \"\"\"\n",
    "    return np.all(np.logical_or.reduce(SETS[_current_solution]))\n",
    "\n",
    "\n",
    "def cost(_current_solution : np.ndarray) -> float:\n",
    "    \"\"\"\n",
    "    Compute the cost of the current sets group.\n",
    "    Args:\n",
    "        _current_solution (np.ndarray): The current solution.\n",
    "    Returns:\n",
    "        float: the sum of the costs of each set in the current solution.\n",
    "    \"\"\"\n",
    "    return COSTS[_current_solution].sum()"
   ]
  },
  {
   "cell_type": "markdown",
   "metadata": {},
   "source": [
    "## Implementation"
   ]
  },
  {
   "cell_type": "markdown",
   "metadata": {},
   "source": [
    "### Initial values"
   ]
  },
  {
   "cell_type": "code",
   "execution_count": 11,
   "metadata": {},
   "outputs": [],
   "source": [
    "MAX_STEPS : int = 10_000\n",
    "\n",
    "starting_solution = rng.random(NUM_SETS) < .5"
   ]
  },
  {
   "cell_type": "markdown",
   "metadata": {},
   "source": [
    "### Validity function\n",
    "\n",
    "I choose the same one provided during the lab"
   ]
  },
  {
   "cell_type": "code",
   "execution_count": 41,
   "metadata": {},
   "outputs": [],
   "source": [
    "def valid(solution):\n",
    "    \"\"\"Checks wether solution is valid (ie. covers all universe)\"\"\"\n",
    "    return np.all(np.logical_or.reduce(SETS[solution]))"
   ]
  },
  {
   "cell_type": "markdown",
   "metadata": {},
   "source": [
    "### Cost function\n",
    "\n",
    "Our goal is to minimize the cost of finding the smallest union of subsets S that covers the universe U. To do this, we must think of a fitness function that, when maximized, also minimizes the cost. We can also think to consider not only the cost as defined earlier but to re-think it as the number of subsets in our current solution.\n",
    "\n",
    "\n",
    "Starting from the `cost function`, we can see that it computes the sum of the cost of each selected subset in our current solution.\n",
    "- the **cost of a single subset** is *the count of taken element of the universe to the power of 1.1*. \n",
    "- the **cost of a solution** is the sum of the costs of each subset inlcuded in the solution itself.\n",
    "\n",
    "we can tell that if the cost of a solution is around pow(UNIVERSE_SIZE, 1.1) we can expect aving the right amount of element **without knowing if these elements actually cover the universe**.\n",
    "\n",
    "In the end we can re-think the cost function as the count of **how many times universe's elements are chosen in different subsets**. In this way, we want to minimize this overlapping value."
   ]
  },
  {
   "cell_type": "code",
   "execution_count": 42,
   "metadata": {},
   "outputs": [],
   "source": [
    "def cost(_current_solution : np.ndarray) -> int:\n",
    "    intersection = np.add.reduce(SETS[_current_solution])\n",
    "    cost = 0\n",
    "    for x in intersection:\n",
    "        if x > 1:\n",
    "            cost += x - 1\n",
    "    return cost"
   ]
  },
  {
   "cell_type": "markdown",
   "metadata": {},
   "source": [
    "### Fitness function\n",
    "\n",
    "See the fitness as the tuple containing the following values\n",
    "\n",
    "- valid(solution)\n",
    "- number of chosen universe's element taken once\n",
    "- -cost(solution)\n",
    "\n",
    "> Our objective is to maximize the number of elements in the universe covered by our subsets, and minimize the -cost to reduce the intersections (element taken more than once in different subsets)."
   ]
  },
  {
   "cell_type": "code",
   "execution_count": 38,
   "metadata": {},
   "outputs": [],
   "source": [
    "def fitness(_current_solution : np.ndarray) -> tuple[bool, float, float]:\n",
    "    return (\n",
    "        valid(_current_solution), \n",
    "        np.logical_or.reduce(SETS[_current_solution]).sum(), \n",
    "        -cost(_current_solution))"
   ]
  },
  {
   "cell_type": "markdown",
   "metadata": {},
   "source": [
    "Let's check some values"
   ]
  },
  {
   "cell_type": "code",
   "execution_count": 39,
   "metadata": {},
   "outputs": [
    {
     "name": "stderr",
     "output_type": "stream",
     "text": [
      "ic| fitness(next_sol): (np.False_, np.int64(1), 0)\n",
      "    fitness(sol): (np.False_, np.int64(3), np.int64(-1))\n",
      "    is_greater: np.False_\n"
     ]
    },
    {
     "data": {
      "text/plain": [
       "((np.False_, np.int64(1), 0),\n",
       " (np.False_, np.int64(3), np.int64(-1)),\n",
       " np.False_)"
      ]
     },
     "execution_count": 39,
     "metadata": {},
     "output_type": "execute_result"
    }
   ],
   "source": [
    "sol = rng.random(NUM_SETS) < .3\n",
    "next_sol = rng.random(NUM_SETS) < .3\n",
    "is_greater = fitness(next_sol) > fitness(sol) \n",
    "\n",
    "ic(fitness(next_sol), fitness(sol), is_greater)"
   ]
  },
  {
   "cell_type": "markdown",
   "metadata": {},
   "source": [
    "### Tweak function"
   ]
  },
  {
   "cell_type": "code",
   "execution_count": 12,
   "metadata": {},
   "outputs": [],
   "source": [
    "def tweak(_current_solution : np.ndarray) -> np.ndarray:\n",
    "    return _current_solution"
   ]
  },
  {
   "cell_type": "markdown",
   "metadata": {},
   "source": [
    "### Iterations"
   ]
  },
  {
   "cell_type": "code",
   "execution_count": 33,
   "metadata": {},
   "outputs": [
    {
     "name": "stderr",
     "output_type": "stream",
     "text": [
      "ic| fitness(s1): (np.False_, np.int64(2), 0)\n",
      "    fitness(s2): (np.False_, np.int64(1), 0)\n",
      "    fitness(s1) > fitness(s2): np.True_\n"
     ]
    },
    {
     "data": {
      "text/plain": [
       "((np.False_, np.int64(2), 0), (np.False_, np.int64(1), 0), np.True_)"
      ]
     },
     "execution_count": 33,
     "metadata": {},
     "output_type": "execute_result"
    }
   ],
   "source": []
  },
  {
   "cell_type": "markdown",
   "metadata": {},
   "source": [
    "### Plot"
   ]
  },
  {
   "cell_type": "code",
   "execution_count": null,
   "metadata": {},
   "outputs": [],
   "source": []
  },
  {
   "cell_type": "markdown",
   "metadata": {},
   "source": [
    "## Results!\n",
    "\n",
    "| instance | Universe size | numset | density | time |\n",
    "|----------|---------------|--------|---------|------|\n",
    "| 1        |               |        |         |      |\n",
    "| 2        |               |        |         |      |\n",
    "| 3        |               |        |         |      |\n",
    "| 4        |               |        |         |      |\n",
    "| 5        |               |        |         |      |\n",
    "| 6        |               |        |         |      |"
   ]
  }
 ],
 "metadata": {
  "kernelspec": {
   "display_name": ".venv",
   "language": "python",
   "name": "python3"
  },
  "language_info": {
   "codemirror_mode": {
    "name": "ipython",
    "version": 3
   },
   "file_extension": ".py",
   "mimetype": "text/x-python",
   "name": "python",
   "nbconvert_exporter": "python",
   "pygments_lexer": "ipython3",
   "version": "3.12.7"
  }
 },
 "nbformat": 4,
 "nbformat_minor": 4
}
